{
 "cells": [
  {
   "cell_type": "markdown",
   "id": "ccd087f2-dbdc-4be4-8d61-e25405000275",
   "metadata": {},
   "source": [
    "# Toronto Traffic Collisions EDA"
   ]
  },
  {
   "cell_type": "markdown",
   "id": "b1ec110d-4a10-403d-901b-fa14fa807289",
   "metadata": {},
   "source": [
    "In this notebook, we explore and analyze Toronto Traffic Collision Data from 2014 to 2024 to identify key trends, patterns, and insights related to traffic incidents in the city. The dataset provides detailed information about collision dates, times, locations, vehicle types involved, and the severity of outcomes such as injuries and fatalities."
   ]
  },
  {
   "cell_type": "markdown",
   "id": "3eb63f37-a08f-4ddd-8ed4-994c8234aa94",
   "metadata": {},
   "source": [
    "**Objectives:**\n",
    "- Understand Collision Trends: Analyze how collision rates change over time (by year, month, and time of day).\n",
    "- Location-Based Insights: Identify neighborhoods or intersections with higher collision frequencies.\n",
    "- Collision Types: Investigate the involvement of different modes of transportation (e.g., automobiles, bicycles, pedestrians).\n",
    "- Severity Analysis: Examine the frequency and patterns of fatal and non-fatal collisions.\n",
    "- Data Cleaning: Handle missing data and outliers to ensure the analysis is robust.\n",
    "  \n",
    "**Why This Analysis Matters:**  \n",
    "Traffic collisions can have a significant impact on public safety and urban planning. By analyzing historical data, we can gain insights to help inform policies, improve traffic management, and potentially reduce future incidents."
   ]
  },
  {
   "cell_type": "markdown",
   "id": "25cca869-ab7f-490b-9a6f-1eff8972eaa4",
   "metadata": {},
   "source": [
    "<hr>"
   ]
  },
  {
   "cell_type": "markdown",
   "id": "24d0ac76-fb88-45de-af1a-5d7bcedd300f",
   "metadata": {},
   "source": [
    "## Data Import and Overview"
   ]
  },
  {
   "cell_type": "markdown",
   "id": "840971b0-c053-4352-ac96-b034135a0c2c",
   "metadata": {},
   "source": [
    "### Import necessary libraries"
   ]
  },
  {
   "cell_type": "code",
   "execution_count": 6,
   "id": "8b806e3e-5ec9-40e5-959a-6e1058794220",
   "metadata": {},
   "outputs": [],
   "source": [
    "# import libraries \n",
    "import pandas as pd\n",
    "import numpy as np\n",
    "import seaborn as sns\n",
    "import matplotlib.pyplot as plt"
   ]
  },
  {
   "cell_type": "markdown",
   "id": "ee1e9500-9969-4097-b92f-e7a070cfaf52",
   "metadata": {},
   "source": [
    "### Load dataset and display first 5 rows"
   ]
  },
  {
   "cell_type": "code",
   "execution_count": 2,
   "id": "7cf3a364-ef42-4678-8fc0-40e563c245fb",
   "metadata": {},
   "outputs": [
    {
     "data": {
      "text/html": [
       "<div>\n",
       "<style scoped>\n",
       "    .dataframe tbody tr th:only-of-type {\n",
       "        vertical-align: middle;\n",
       "    }\n",
       "\n",
       "    .dataframe tbody tr th {\n",
       "        vertical-align: top;\n",
       "    }\n",
       "\n",
       "    .dataframe thead th {\n",
       "        text-align: right;\n",
       "    }\n",
       "</style>\n",
       "<table border=\"1\" class=\"dataframe\">\n",
       "  <thead>\n",
       "    <tr style=\"text-align: right;\">\n",
       "      <th></th>\n",
       "      <th>_id</th>\n",
       "      <th>OCC_DATE</th>\n",
       "      <th>OCC_MONTH</th>\n",
       "      <th>OCC_DOW</th>\n",
       "      <th>OCC_YEAR</th>\n",
       "      <th>OCC_HOUR</th>\n",
       "      <th>DIVISION</th>\n",
       "      <th>FATALITIES</th>\n",
       "      <th>INJURY_COLLISIONS</th>\n",
       "      <th>FTR_COLLISIONS</th>\n",
       "      <th>...</th>\n",
       "      <th>HOOD_158</th>\n",
       "      <th>NEIGHBOURHOOD_158</th>\n",
       "      <th>LONG_WGS84</th>\n",
       "      <th>LAT_WGS84</th>\n",
       "      <th>AUTOMOBILE</th>\n",
       "      <th>MOTORCYCLE</th>\n",
       "      <th>PASSENGER</th>\n",
       "      <th>BICYCLE</th>\n",
       "      <th>PEDESTRIAN</th>\n",
       "      <th>geometry</th>\n",
       "    </tr>\n",
       "  </thead>\n",
       "  <tbody>\n",
       "    <tr>\n",
       "      <th>0</th>\n",
       "      <td>1</td>\n",
       "      <td>1388552400000</td>\n",
       "      <td>January</td>\n",
       "      <td>Wednesday</td>\n",
       "      <td>2014</td>\n",
       "      <td>13</td>\n",
       "      <td>D23</td>\n",
       "      <td>NaN</td>\n",
       "      <td>NO</td>\n",
       "      <td>NO</td>\n",
       "      <td>...</td>\n",
       "      <td>006</td>\n",
       "      <td>Kingsview Village-The Westway (6)</td>\n",
       "      <td>-79.558639</td>\n",
       "      <td>43.694246</td>\n",
       "      <td>YES</td>\n",
       "      <td>NO</td>\n",
       "      <td>NO</td>\n",
       "      <td>NO</td>\n",
       "      <td>NO</td>\n",
       "      <td>{\"type\": \"MultiPoint\", \"coordinates\": [[-79.55...</td>\n",
       "    </tr>\n",
       "    <tr>\n",
       "      <th>1</th>\n",
       "      <td>2</td>\n",
       "      <td>1388552400000</td>\n",
       "      <td>January</td>\n",
       "      <td>Wednesday</td>\n",
       "      <td>2014</td>\n",
       "      <td>19</td>\n",
       "      <td>D42</td>\n",
       "      <td>NaN</td>\n",
       "      <td>NO</td>\n",
       "      <td>YES</td>\n",
       "      <td>...</td>\n",
       "      <td>128</td>\n",
       "      <td>Agincourt South-Malvern West (128)</td>\n",
       "      <td>-79.281506</td>\n",
       "      <td>43.784746</td>\n",
       "      <td>YES</td>\n",
       "      <td>NO</td>\n",
       "      <td>NO</td>\n",
       "      <td>NO</td>\n",
       "      <td>NO</td>\n",
       "      <td>{\"type\": \"MultiPoint\", \"coordinates\": [[-79.28...</td>\n",
       "    </tr>\n",
       "    <tr>\n",
       "      <th>2</th>\n",
       "      <td>3</td>\n",
       "      <td>1388552400000</td>\n",
       "      <td>January</td>\n",
       "      <td>Wednesday</td>\n",
       "      <td>2014</td>\n",
       "      <td>2</td>\n",
       "      <td>NSA</td>\n",
       "      <td>NaN</td>\n",
       "      <td>YES</td>\n",
       "      <td>NO</td>\n",
       "      <td>...</td>\n",
       "      <td>NSA</td>\n",
       "      <td>NSA</td>\n",
       "      <td>0.000000</td>\n",
       "      <td>0.000000</td>\n",
       "      <td>YES</td>\n",
       "      <td>NO</td>\n",
       "      <td>NO</td>\n",
       "      <td>NO</td>\n",
       "      <td>NO</td>\n",
       "      <td>{\"type\": \"MultiPoint\", \"coordinates\": [[5.6843...</td>\n",
       "    </tr>\n",
       "    <tr>\n",
       "      <th>3</th>\n",
       "      <td>4</td>\n",
       "      <td>1388552400000</td>\n",
       "      <td>January</td>\n",
       "      <td>Wednesday</td>\n",
       "      <td>2014</td>\n",
       "      <td>3</td>\n",
       "      <td>NSA</td>\n",
       "      <td>NaN</td>\n",
       "      <td>NO</td>\n",
       "      <td>NO</td>\n",
       "      <td>...</td>\n",
       "      <td>NSA</td>\n",
       "      <td>NSA</td>\n",
       "      <td>0.000000</td>\n",
       "      <td>0.000000</td>\n",
       "      <td>YES</td>\n",
       "      <td>NO</td>\n",
       "      <td>NO</td>\n",
       "      <td>NO</td>\n",
       "      <td>NO</td>\n",
       "      <td>{\"type\": \"MultiPoint\", \"coordinates\": [[5.6843...</td>\n",
       "    </tr>\n",
       "    <tr>\n",
       "      <th>4</th>\n",
       "      <td>5</td>\n",
       "      <td>1388552400000</td>\n",
       "      <td>January</td>\n",
       "      <td>Wednesday</td>\n",
       "      <td>2014</td>\n",
       "      <td>5</td>\n",
       "      <td>NSA</td>\n",
       "      <td>NaN</td>\n",
       "      <td>YES</td>\n",
       "      <td>NO</td>\n",
       "      <td>...</td>\n",
       "      <td>NSA</td>\n",
       "      <td>NSA</td>\n",
       "      <td>0.000000</td>\n",
       "      <td>0.000000</td>\n",
       "      <td>YES</td>\n",
       "      <td>NO</td>\n",
       "      <td>NO</td>\n",
       "      <td>NO</td>\n",
       "      <td>NO</td>\n",
       "      <td>{\"type\": \"MultiPoint\", \"coordinates\": [[5.6843...</td>\n",
       "    </tr>\n",
       "  </tbody>\n",
       "</table>\n",
       "<p>5 rows × 21 columns</p>\n",
       "</div>"
      ],
      "text/plain": [
       "   _id       OCC_DATE OCC_MONTH    OCC_DOW  OCC_YEAR  OCC_HOUR DIVISION  \\\n",
       "0    1  1388552400000   January  Wednesday      2014        13      D23   \n",
       "1    2  1388552400000   January  Wednesday      2014        19      D42   \n",
       "2    3  1388552400000   January  Wednesday      2014         2      NSA   \n",
       "3    4  1388552400000   January  Wednesday      2014         3      NSA   \n",
       "4    5  1388552400000   January  Wednesday      2014         5      NSA   \n",
       "\n",
       "   FATALITIES INJURY_COLLISIONS FTR_COLLISIONS  ... HOOD_158  \\\n",
       "0         NaN                NO             NO  ...      006   \n",
       "1         NaN                NO            YES  ...      128   \n",
       "2         NaN               YES             NO  ...      NSA   \n",
       "3         NaN                NO             NO  ...      NSA   \n",
       "4         NaN               YES             NO  ...      NSA   \n",
       "\n",
       "                    NEIGHBOURHOOD_158 LONG_WGS84  LAT_WGS84  AUTOMOBILE  \\\n",
       "0   Kingsview Village-The Westway (6) -79.558639  43.694246         YES   \n",
       "1  Agincourt South-Malvern West (128) -79.281506  43.784746         YES   \n",
       "2                                 NSA   0.000000   0.000000         YES   \n",
       "3                                 NSA   0.000000   0.000000         YES   \n",
       "4                                 NSA   0.000000   0.000000         YES   \n",
       "\n",
       "  MOTORCYCLE PASSENGER BICYCLE PEDESTRIAN  \\\n",
       "0         NO        NO      NO         NO   \n",
       "1         NO        NO      NO         NO   \n",
       "2         NO        NO      NO         NO   \n",
       "3         NO        NO      NO         NO   \n",
       "4         NO        NO      NO         NO   \n",
       "\n",
       "                                            geometry  \n",
       "0  {\"type\": \"MultiPoint\", \"coordinates\": [[-79.55...  \n",
       "1  {\"type\": \"MultiPoint\", \"coordinates\": [[-79.28...  \n",
       "2  {\"type\": \"MultiPoint\", \"coordinates\": [[5.6843...  \n",
       "3  {\"type\": \"MultiPoint\", \"coordinates\": [[5.6843...  \n",
       "4  {\"type\": \"MultiPoint\", \"coordinates\": [[5.6843...  \n",
       "\n",
       "[5 rows x 21 columns]"
      ]
     },
     "execution_count": 2,
     "metadata": {},
     "output_type": "execute_result"
    }
   ],
   "source": [
    "df = pd.read_csv(\"/Users/raghadibrahim/Desktop/toronto-collisions-eda/data/Traffic_Collisions.csv\")\n",
    "df.head() # show first five rows"
   ]
  },
  {
   "cell_type": "markdown",
   "id": "02b4f382-c7ee-4554-b1a1-ffb6ad1e848a",
   "metadata": {},
   "source": [
    "### Display important info"
   ]
  },
  {
   "cell_type": "code",
   "execution_count": 4,
   "id": "90c95a32-53b6-4e25-b3cb-8b34c64d9d07",
   "metadata": {},
   "outputs": [
    {
     "name": "stdout",
     "output_type": "stream",
     "text": [
      "<class 'pandas.core.frame.DataFrame'>\n",
      "RangeIndex: 704704 entries, 0 to 704703\n",
      "Data columns (total 21 columns):\n",
      " #   Column             Non-Null Count   Dtype  \n",
      "---  ------             --------------   -----  \n",
      " 0   _id                704704 non-null  int64  \n",
      " 1   OCC_DATE           704704 non-null  int64  \n",
      " 2   OCC_MONTH          704704 non-null  object \n",
      " 3   OCC_DOW            704704 non-null  object \n",
      " 4   OCC_YEAR           704704 non-null  int64  \n",
      " 5   OCC_HOUR           704704 non-null  int64  \n",
      " 6   DIVISION           704704 non-null  object \n",
      " 7   FATALITIES         606 non-null     float64\n",
      " 8   INJURY_COLLISIONS  704700 non-null  object \n",
      " 9   FTR_COLLISIONS     704700 non-null  object \n",
      " 10  PD_COLLISIONS      704700 non-null  object \n",
      " 11  HOOD_158           704704 non-null  object \n",
      " 12  NEIGHBOURHOOD_158  704704 non-null  object \n",
      " 13  LONG_WGS84         704704 non-null  float64\n",
      " 14  LAT_WGS84          704704 non-null  float64\n",
      " 15  AUTOMOBILE         704700 non-null  object \n",
      " 16  MOTORCYCLE         704700 non-null  object \n",
      " 17  PASSENGER          704700 non-null  object \n",
      " 18  BICYCLE            704700 non-null  object \n",
      " 19  PEDESTRIAN         704700 non-null  object \n",
      " 20  geometry           704704 non-null  object \n",
      "dtypes: float64(3), int64(4), object(14)\n",
      "memory usage: 112.9+ MB\n"
     ]
    }
   ],
   "source": [
    "# show dataframe info\n",
    "df.info()"
   ]
  },
  {
   "cell_type": "markdown",
   "id": "8e349bf0-6278-4b6b-907b-d2a7d914b332",
   "metadata": {},
   "source": [
    "<br>"
   ]
  },
  {
   "cell_type": "markdown",
   "id": "952c74b9-abe6-41f2-8fdb-b79feb56ed22",
   "metadata": {},
   "source": [
    "We can see above that the dataset consists of $704,704$ rows and $21$ columns. Each row in the dataset represents a single reported traffic collision incident in Toronto. Specifically, one row corresponds to one collision event and includes information about when, where, and how the collision happened, as well as details on the severity and the types of vehicles and people involved."
   ]
  },
  {
   "cell_type": "markdown",
   "id": "b6b84c7b-459e-4013-9a5b-4d6cfe6ef0f0",
   "metadata": {},
   "source": [
    "### Key Statistics"
   ]
  },
  {
   "cell_type": "code",
   "execution_count": 3,
   "id": "34d1f1c5-ede6-41d2-9705-a233760cd508",
   "metadata": {},
   "outputs": [
    {
     "data": {
      "text/html": [
       "<div>\n",
       "<style scoped>\n",
       "    .dataframe tbody tr th:only-of-type {\n",
       "        vertical-align: middle;\n",
       "    }\n",
       "\n",
       "    .dataframe tbody tr th {\n",
       "        vertical-align: top;\n",
       "    }\n",
       "\n",
       "    .dataframe thead th {\n",
       "        text-align: right;\n",
       "    }\n",
       "</style>\n",
       "<table border=\"1\" class=\"dataframe\">\n",
       "  <thead>\n",
       "    <tr style=\"text-align: right;\">\n",
       "      <th></th>\n",
       "      <th>_id</th>\n",
       "      <th>OCC_DATE</th>\n",
       "      <th>OCC_YEAR</th>\n",
       "      <th>OCC_HOUR</th>\n",
       "      <th>FATALITIES</th>\n",
       "      <th>LONG_WGS84</th>\n",
       "      <th>LAT_WGS84</th>\n",
       "    </tr>\n",
       "  </thead>\n",
       "  <tbody>\n",
       "    <tr>\n",
       "      <th>count</th>\n",
       "      <td>704704.000000</td>\n",
       "      <td>7.047040e+05</td>\n",
       "      <td>704704.000000</td>\n",
       "      <td>704704.000000</td>\n",
       "      <td>606.000000</td>\n",
       "      <td>704704.000000</td>\n",
       "      <td>704704.000000</td>\n",
       "    </tr>\n",
       "    <tr>\n",
       "      <th>mean</th>\n",
       "      <td>352352.500000</td>\n",
       "      <td>1.553559e+12</td>\n",
       "      <td>2018.729875</td>\n",
       "      <td>13.468612</td>\n",
       "      <td>1.014851</td>\n",
       "      <td>-66.342691</td>\n",
       "      <td>36.528215</td>\n",
       "    </tr>\n",
       "    <tr>\n",
       "      <th>std</th>\n",
       "      <td>203430.666387</td>\n",
       "      <td>9.784382e+10</td>\n",
       "      <td>3.099030</td>\n",
       "      <td>4.976665</td>\n",
       "      <td>0.145831</td>\n",
       "      <td>29.423231</td>\n",
       "      <td>16.200397</td>\n",
       "    </tr>\n",
       "    <tr>\n",
       "      <th>min</th>\n",
       "      <td>1.000000</td>\n",
       "      <td>1.388552e+12</td>\n",
       "      <td>2014.000000</td>\n",
       "      <td>0.000000</td>\n",
       "      <td>1.000000</td>\n",
       "      <td>-79.639247</td>\n",
       "      <td>0.000000</td>\n",
       "    </tr>\n",
       "    <tr>\n",
       "      <th>25%</th>\n",
       "      <td>176176.750000</td>\n",
       "      <td>1.472706e+12</td>\n",
       "      <td>2016.000000</td>\n",
       "      <td>10.000000</td>\n",
       "      <td>1.000000</td>\n",
       "      <td>-79.444829</td>\n",
       "      <td>43.644346</td>\n",
       "    </tr>\n",
       "    <tr>\n",
       "      <th>50%</th>\n",
       "      <td>352352.500000</td>\n",
       "      <td>1.545109e+12</td>\n",
       "      <td>2018.000000</td>\n",
       "      <td>14.000000</td>\n",
       "      <td>1.000000</td>\n",
       "      <td>-79.370469</td>\n",
       "      <td>43.692500</td>\n",
       "    </tr>\n",
       "    <tr>\n",
       "      <th>75%</th>\n",
       "      <td>528528.250000</td>\n",
       "      <td>1.642568e+12</td>\n",
       "      <td>2022.000000</td>\n",
       "      <td>17.000000</td>\n",
       "      <td>1.000000</td>\n",
       "      <td>-79.258521</td>\n",
       "      <td>43.751480</td>\n",
       "    </tr>\n",
       "    <tr>\n",
       "      <th>max</th>\n",
       "      <td>704704.000000</td>\n",
       "      <td>1.727672e+12</td>\n",
       "      <td>2024.000000</td>\n",
       "      <td>23.000000</td>\n",
       "      <td>3.000000</td>\n",
       "      <td>0.000000</td>\n",
       "      <td>43.853164</td>\n",
       "    </tr>\n",
       "  </tbody>\n",
       "</table>\n",
       "</div>"
      ],
      "text/plain": [
       "                 _id      OCC_DATE       OCC_YEAR       OCC_HOUR  FATALITIES  \\\n",
       "count  704704.000000  7.047040e+05  704704.000000  704704.000000  606.000000   \n",
       "mean   352352.500000  1.553559e+12    2018.729875      13.468612    1.014851   \n",
       "std    203430.666387  9.784382e+10       3.099030       4.976665    0.145831   \n",
       "min         1.000000  1.388552e+12    2014.000000       0.000000    1.000000   \n",
       "25%    176176.750000  1.472706e+12    2016.000000      10.000000    1.000000   \n",
       "50%    352352.500000  1.545109e+12    2018.000000      14.000000    1.000000   \n",
       "75%    528528.250000  1.642568e+12    2022.000000      17.000000    1.000000   \n",
       "max    704704.000000  1.727672e+12    2024.000000      23.000000    3.000000   \n",
       "\n",
       "          LONG_WGS84      LAT_WGS84  \n",
       "count  704704.000000  704704.000000  \n",
       "mean      -66.342691      36.528215  \n",
       "std        29.423231      16.200397  \n",
       "min       -79.639247       0.000000  \n",
       "25%       -79.444829      43.644346  \n",
       "50%       -79.370469      43.692500  \n",
       "75%       -79.258521      43.751480  \n",
       "max         0.000000      43.853164  "
      ]
     },
     "execution_count": 3,
     "metadata": {},
     "output_type": "execute_result"
    }
   ],
   "source": [
    "# dataframe key statistics\n",
    "df.describe()"
   ]
  },
  {
   "cell_type": "markdown",
   "id": "f3cee675-a712-4e28-8e74-a25461073b4d",
   "metadata": {},
   "source": [
    "##  Data Cleaning and Preprocessing"
   ]
  },
  {
   "cell_type": "markdown",
   "id": "f37bdf85-980f-49a0-85d1-efa3fa30ba03",
   "metadata": {},
   "source": []
  },
  {
   "cell_type": "markdown",
   "id": "1dd48ea7-cc0c-46b5-abb5-6507fbc5e7ba",
   "metadata": {},
   "source": [
    "### Missing Values"
   ]
  },
  {
   "cell_type": "code",
   "execution_count": 5,
   "id": "0bb1808a-7ac1-4720-80eb-b9287c640f1c",
   "metadata": {},
   "outputs": [
    {
     "data": {
      "text/plain": [
       "_id                       0\n",
       "OCC_DATE                  0\n",
       "OCC_MONTH                 0\n",
       "OCC_DOW                   0\n",
       "OCC_YEAR                  0\n",
       "OCC_HOUR                  0\n",
       "DIVISION                  0\n",
       "FATALITIES           704098\n",
       "INJURY_COLLISIONS         4\n",
       "FTR_COLLISIONS            4\n",
       "PD_COLLISIONS             4\n",
       "HOOD_158                  0\n",
       "NEIGHBOURHOOD_158         0\n",
       "LONG_WGS84                0\n",
       "LAT_WGS84                 0\n",
       "AUTOMOBILE                4\n",
       "MOTORCYCLE                4\n",
       "PASSENGER                 4\n",
       "BICYCLE                   4\n",
       "PEDESTRIAN                4\n",
       "geometry                  0\n",
       "dtype: int64"
      ]
     },
     "execution_count": 5,
     "metadata": {},
     "output_type": "execute_result"
    }
   ],
   "source": [
    "df.isnull().sum()"
   ]
  },
  {
   "cell_type": "markdown",
   "id": "ee1fb011-9403-4e74-8c68-c2c16c6bae0a",
   "metadata": {},
   "source": [
    "### Data Types"
   ]
  },
  {
   "cell_type": "markdown",
   "id": "c8b3512e-1d91-4dee-985f-6abadfc4dc02",
   "metadata": {},
   "source": [
    "### Check for Duplicates"
   ]
  },
  {
   "cell_type": "markdown",
   "id": "2cb1659e-9faa-4335-b624-c5141f6c34dd",
   "metadata": {},
   "source": [
    "## Exploratory Data Analysis (EDA)"
   ]
  },
  {
   "cell_type": "code",
   "execution_count": 10,
   "id": "aa3e7c9d-34fe-4863-8b4c-e039515b4d8c",
   "metadata": {},
   "outputs": [
    {
     "data": {
      "text/plain": [
       "MOTORCYCLE\n",
       "NO     694183\n",
       "N/R      6246\n",
       "YES      4271\n",
       "Name: count, dtype: int64"
      ]
     },
     "execution_count": 10,
     "metadata": {},
     "output_type": "execute_result"
    }
   ],
   "source": [
    "df['MOTORCYCLE'].value_counts()"
   ]
  },
  {
   "cell_type": "code",
   "execution_count": 11,
   "id": "e206edc9-4bdb-4193-b447-136fedf8ad71",
   "metadata": {},
   "outputs": [
    {
     "data": {
      "text/plain": [
       "AUTOMOBILE\n",
       "YES    695103\n",
       "N/R      6246\n",
       "NO       3351\n",
       "Name: count, dtype: int64"
      ]
     },
     "execution_count": 11,
     "metadata": {},
     "output_type": "execute_result"
    }
   ],
   "source": [
    "df['AUTOMOBILE'].value_counts()"
   ]
  },
  {
   "cell_type": "code",
   "execution_count": 12,
   "id": "ca81db70-8189-42d2-a04c-7609f6039bed",
   "metadata": {},
   "outputs": [
    {
     "data": {
      "text/plain": [
       "BICYCLE\n",
       "NO     687298\n",
       "YES     11156\n",
       "N/R      6246\n",
       "Name: count, dtype: int64"
      ]
     },
     "execution_count": 12,
     "metadata": {},
     "output_type": "execute_result"
    }
   ],
   "source": [
    "df['BICYCLE'].value_counts()"
   ]
  },
  {
   "cell_type": "code",
   "execution_count": 13,
   "id": "29e7aeaa-ed03-4626-af11-6de215c64b3d",
   "metadata": {},
   "outputs": [
    {
     "data": {
      "text/plain": [
       "PEDESTRIAN\n",
       "NO     680900\n",
       "YES     17554\n",
       "N/R      6246\n",
       "Name: count, dtype: int64"
      ]
     },
     "execution_count": 13,
     "metadata": {},
     "output_type": "execute_result"
    }
   ],
   "source": [
    "df['PEDESTRIAN'].value_counts()"
   ]
  },
  {
   "cell_type": "code",
   "execution_count": 14,
   "id": "42ca572f-775f-4d9d-bb7b-b6fc9657b3dd",
   "metadata": {},
   "outputs": [
    {
     "data": {
      "text/plain": [
       "PASSENGER\n",
       "NO     644971\n",
       "YES     53483\n",
       "N/R      6246\n",
       "Name: count, dtype: int64"
      ]
     },
     "execution_count": 14,
     "metadata": {},
     "output_type": "execute_result"
    }
   ],
   "source": [
    "df['PASSENGER'].value_counts()"
   ]
  },
  {
   "cell_type": "code",
   "execution_count": 15,
   "id": "ae80ac90-4281-4da3-9a7e-cf5e8233ea76",
   "metadata": {},
   "outputs": [
    {
     "data": {
      "text/plain": [
       "INJURY_COLLISIONS\n",
       "NO     610082\n",
       "YES     94618\n",
       "Name: count, dtype: int64"
      ]
     },
     "execution_count": 15,
     "metadata": {},
     "output_type": "execute_result"
    }
   ],
   "source": [
    "df['INJURY_COLLISIONS'].value_counts()"
   ]
  },
  {
   "cell_type": "code",
   "execution_count": 16,
   "id": "3415ec6e-580d-4aa1-82be-c266bbebfc5f",
   "metadata": {},
   "outputs": [
    {
     "data": {
      "text/plain": [
       "FATALITIES\n",
       "1.0    599\n",
       "2.0      5\n",
       "3.0      2\n",
       "Name: count, dtype: int64"
      ]
     },
     "execution_count": 16,
     "metadata": {},
     "output_type": "execute_result"
    }
   ],
   "source": [
    "df['FATALITIES'].value_counts()"
   ]
  },
  {
   "cell_type": "code",
   "execution_count": 17,
   "id": "49004266-5474-4be9-8837-378467f68275",
   "metadata": {},
   "outputs": [
    {
     "data": {
      "text/plain": [
       "PD_COLLISIONS\n",
       "YES    508411\n",
       "NO     196289\n",
       "Name: count, dtype: int64"
      ]
     },
     "execution_count": 17,
     "metadata": {},
     "output_type": "execute_result"
    }
   ],
   "source": [
    "df['PD_COLLISIONS'].value_counts()"
   ]
  },
  {
   "cell_type": "code",
   "execution_count": null,
   "id": "73da57fa-a47a-4203-a8d7-0376e05c8d3a",
   "metadata": {},
   "outputs": [],
   "source": []
  },
  {
   "cell_type": "code",
   "execution_count": null,
   "id": "2bcbd39b-430c-4553-815d-046d25eafb57",
   "metadata": {},
   "outputs": [],
   "source": []
  },
  {
   "cell_type": "code",
   "execution_count": null,
   "id": "25173e56-9f96-4486-b838-95f5d7d8277a",
   "metadata": {},
   "outputs": [],
   "source": []
  },
  {
   "cell_type": "code",
   "execution_count": null,
   "id": "b3ab96c0-ded1-40f8-a57e-518191e98aec",
   "metadata": {},
   "outputs": [],
   "source": []
  },
  {
   "cell_type": "code",
   "execution_count": null,
   "id": "74d83ddb-3fd9-424a-9e6a-8be0bc9bcd6c",
   "metadata": {},
   "outputs": [],
   "source": []
  },
  {
   "cell_type": "markdown",
   "id": "fcae3457-ba76-4744-b215-173ee59d8061",
   "metadata": {},
   "source": [
    "## Insights and Findings"
   ]
  },
  {
   "cell_type": "markdown",
   "id": "0802961f-ffdf-444b-a70f-e97b5fd67d44",
   "metadata": {},
   "source": [
    "## Conclusion"
   ]
  },
  {
   "cell_type": "markdown",
   "id": "c07146fb-bd71-4495-9cf8-21a2eeecd567",
   "metadata": {},
   "source": [
    "## Next Steps"
   ]
  },
  {
   "cell_type": "code",
   "execution_count": null,
   "id": "ad8b1139-9cc2-40e6-915a-187f62028526",
   "metadata": {},
   "outputs": [],
   "source": []
  },
  {
   "cell_type": "code",
   "execution_count": null,
   "id": "acd81f75-cd31-48d0-bb15-9ac2e350542b",
   "metadata": {},
   "outputs": [],
   "source": []
  },
  {
   "cell_type": "code",
   "execution_count": null,
   "id": "7ade5647-9de4-48bc-aba7-505e760fbf22",
   "metadata": {},
   "outputs": [],
   "source": []
  },
  {
   "cell_type": "markdown",
   "id": "7de2dba3-e888-4199-8705-c70a2106bca4",
   "metadata": {},
   "source": []
  },
  {
   "cell_type": "markdown",
   "id": "6f3e819a-6e77-4027-ad4f-df05d482f251",
   "metadata": {},
   "source": []
  }
 ],
 "metadata": {
  "kernelspec": {
   "display_name": "Python 3 (ipykernel)",
   "language": "python",
   "name": "python3"
  },
  "language_info": {
   "codemirror_mode": {
    "name": "ipython",
    "version": 3
   },
   "file_extension": ".py",
   "mimetype": "text/x-python",
   "name": "python",
   "nbconvert_exporter": "python",
   "pygments_lexer": "ipython3",
   "version": "3.11.8"
  },
  "widgets": {
   "application/vnd.jupyter.widget-state+json": {
    "state": {},
    "version_major": 2,
    "version_minor": 0
   }
  }
 },
 "nbformat": 4,
 "nbformat_minor": 5
}
