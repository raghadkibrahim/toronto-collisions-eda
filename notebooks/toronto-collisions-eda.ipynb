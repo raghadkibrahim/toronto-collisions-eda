{
 "cells": [
  {
   "cell_type": "markdown",
   "id": "ccd087f2-dbdc-4be4-8d61-e25405000275",
   "metadata": {},
   "source": [
    "# Toronto Traffic Collisions EDA"
   ]
  },
  {
   "cell_type": "markdown",
   "id": "b1ec110d-4a10-403d-901b-fa14fa807289",
   "metadata": {},
   "source": [
    "In this notebook, we explore and analyze Toronto Traffic Collision Data from 2014 to 2024 to identify key trends, patterns, and insights related to traffic incidents in the city. The dataset provides detailed information about collision dates, times, locations, vehicle types involved, and the severity of outcomes such as injuries and fatalities."
   ]
  },
  {
   "cell_type": "markdown",
   "id": "3eb63f37-a08f-4ddd-8ed4-994c8234aa94",
   "metadata": {},
   "source": [
    "**Objectives:**\n",
    "- Understand Collision Trends: Analyze how collision rates change over time (by year, month, and time of day).\n",
    "- Location-Based Insights: Identify neighborhoods or intersections with higher collision frequencies.\n",
    "- Collision Types: Investigate the involvement of different modes of transportation (e.g., automobiles, bicycles, pedestrians).\n",
    "- Severity Analysis: Examine the frequency and patterns of fatal and non-fatal collisions.\n",
    "- Data Cleaning: Handle missing data and outliers to ensure the analysis is robust.\n",
    "  \n",
    "**Why This Analysis Matters:**  \n",
    "Traffic collisions can have a significant impact on public safety and urban planning. By analyzing historical data, we can gain insights to help inform policies, improve traffic management, and potentially reduce future incidents."
   ]
  },
  {
   "cell_type": "markdown",
   "id": "840971b0-c053-4352-ac96-b034135a0c2c",
   "metadata": {},
   "source": [
    "### Import  libraries and load dataset"
   ]
  },
  {
   "cell_type": "code",
   "execution_count": 1,
   "id": "8b806e3e-5ec9-40e5-959a-6e1058794220",
   "metadata": {},
   "outputs": [],
   "source": [
    "# import libraries \n",
    "import pandas as pd\n",
    "import numpy as np\n",
    "import seaborn as sns\n",
    "import matplotlib.pyplot as plt\n",
    "\n",
    "# loading dataframe\n",
    "path = \"/Users/raghadibrahim/Desktop/projects/portfolio_projects/toronto-collisions-eda/data/Traffic_Collisions.csv\" # paste your file path here\n",
    "\n",
    "df = pd.read_csv(path, index_col=0) "
   ]
  },
  {
   "cell_type": "markdown",
   "id": "25cca869-ab7f-490b-9a6f-1eff8972eaa4",
   "metadata": {},
   "source": [
    "<hr>"
   ]
  },
  {
   "cell_type": "markdown",
   "id": "24d0ac76-fb88-45de-af1a-5d7bcedd300f",
   "metadata": {},
   "source": [
    "## Data Overview"
   ]
  },
  {
   "cell_type": "markdown",
   "id": "ee1e9500-9969-4097-b92f-e7a070cfaf52",
   "metadata": {},
   "source": [
    "### Load dataset and display first 5 rows"
   ]
  },
  {
   "cell_type": "code",
   "execution_count": 3,
   "id": "7cf3a364-ef42-4678-8fc0-40e563c245fb",
   "metadata": {},
   "outputs": [
    {
     "data": {
      "text/html": [
       "<div>\n",
       "<style scoped>\n",
       "    .dataframe tbody tr th:only-of-type {\n",
       "        vertical-align: middle;\n",
       "    }\n",
       "\n",
       "    .dataframe tbody tr th {\n",
       "        vertical-align: top;\n",
       "    }\n",
       "\n",
       "    .dataframe thead th {\n",
       "        text-align: right;\n",
       "    }\n",
       "</style>\n",
       "<table border=\"1\" class=\"dataframe\">\n",
       "  <thead>\n",
       "    <tr style=\"text-align: right;\">\n",
       "      <th></th>\n",
       "      <th>OCC_DATE</th>\n",
       "      <th>OCC_MONTH</th>\n",
       "      <th>OCC_DOW</th>\n",
       "      <th>OCC_YEAR</th>\n",
       "      <th>OCC_HOUR</th>\n",
       "      <th>DIVISION</th>\n",
       "      <th>FATALITIES</th>\n",
       "      <th>INJURY_COLLISIONS</th>\n",
       "      <th>FTR_COLLISIONS</th>\n",
       "      <th>PD_COLLISIONS</th>\n",
       "      <th>HOOD_158</th>\n",
       "      <th>NEIGHBOURHOOD_158</th>\n",
       "      <th>LONG_WGS84</th>\n",
       "      <th>LAT_WGS84</th>\n",
       "      <th>AUTOMOBILE</th>\n",
       "      <th>MOTORCYCLE</th>\n",
       "      <th>PASSENGER</th>\n",
       "      <th>BICYCLE</th>\n",
       "      <th>PEDESTRIAN</th>\n",
       "      <th>geometry</th>\n",
       "    </tr>\n",
       "    <tr>\n",
       "      <th>_id</th>\n",
       "      <th></th>\n",
       "      <th></th>\n",
       "      <th></th>\n",
       "      <th></th>\n",
       "      <th></th>\n",
       "      <th></th>\n",
       "      <th></th>\n",
       "      <th></th>\n",
       "      <th></th>\n",
       "      <th></th>\n",
       "      <th></th>\n",
       "      <th></th>\n",
       "      <th></th>\n",
       "      <th></th>\n",
       "      <th></th>\n",
       "      <th></th>\n",
       "      <th></th>\n",
       "      <th></th>\n",
       "      <th></th>\n",
       "      <th></th>\n",
       "    </tr>\n",
       "  </thead>\n",
       "  <tbody>\n",
       "    <tr>\n",
       "      <th>1</th>\n",
       "      <td>1388552400000</td>\n",
       "      <td>January</td>\n",
       "      <td>Wednesday</td>\n",
       "      <td>2014</td>\n",
       "      <td>13</td>\n",
       "      <td>D23</td>\n",
       "      <td>NaN</td>\n",
       "      <td>NO</td>\n",
       "      <td>NO</td>\n",
       "      <td>YES</td>\n",
       "      <td>006</td>\n",
       "      <td>Kingsview Village-The Westway (6)</td>\n",
       "      <td>-79.558639</td>\n",
       "      <td>43.694246</td>\n",
       "      <td>YES</td>\n",
       "      <td>NO</td>\n",
       "      <td>NO</td>\n",
       "      <td>NO</td>\n",
       "      <td>NO</td>\n",
       "      <td>{\"type\": \"MultiPoint\", \"coordinates\": [[-79.55...</td>\n",
       "    </tr>\n",
       "    <tr>\n",
       "      <th>2</th>\n",
       "      <td>1388552400000</td>\n",
       "      <td>January</td>\n",
       "      <td>Wednesday</td>\n",
       "      <td>2014</td>\n",
       "      <td>19</td>\n",
       "      <td>D42</td>\n",
       "      <td>NaN</td>\n",
       "      <td>NO</td>\n",
       "      <td>YES</td>\n",
       "      <td>NO</td>\n",
       "      <td>128</td>\n",
       "      <td>Agincourt South-Malvern West (128)</td>\n",
       "      <td>-79.281506</td>\n",
       "      <td>43.784746</td>\n",
       "      <td>YES</td>\n",
       "      <td>NO</td>\n",
       "      <td>NO</td>\n",
       "      <td>NO</td>\n",
       "      <td>NO</td>\n",
       "      <td>{\"type\": \"MultiPoint\", \"coordinates\": [[-79.28...</td>\n",
       "    </tr>\n",
       "    <tr>\n",
       "      <th>3</th>\n",
       "      <td>1388552400000</td>\n",
       "      <td>January</td>\n",
       "      <td>Wednesday</td>\n",
       "      <td>2014</td>\n",
       "      <td>2</td>\n",
       "      <td>NSA</td>\n",
       "      <td>NaN</td>\n",
       "      <td>YES</td>\n",
       "      <td>NO</td>\n",
       "      <td>NO</td>\n",
       "      <td>NSA</td>\n",
       "      <td>NSA</td>\n",
       "      <td>0.000000</td>\n",
       "      <td>0.000000</td>\n",
       "      <td>YES</td>\n",
       "      <td>NO</td>\n",
       "      <td>NO</td>\n",
       "      <td>NO</td>\n",
       "      <td>NO</td>\n",
       "      <td>{\"type\": \"MultiPoint\", \"coordinates\": [[5.6843...</td>\n",
       "    </tr>\n",
       "    <tr>\n",
       "      <th>4</th>\n",
       "      <td>1388552400000</td>\n",
       "      <td>January</td>\n",
       "      <td>Wednesday</td>\n",
       "      <td>2014</td>\n",
       "      <td>3</td>\n",
       "      <td>NSA</td>\n",
       "      <td>NaN</td>\n",
       "      <td>NO</td>\n",
       "      <td>NO</td>\n",
       "      <td>YES</td>\n",
       "      <td>NSA</td>\n",
       "      <td>NSA</td>\n",
       "      <td>0.000000</td>\n",
       "      <td>0.000000</td>\n",
       "      <td>YES</td>\n",
       "      <td>NO</td>\n",
       "      <td>NO</td>\n",
       "      <td>NO</td>\n",
       "      <td>NO</td>\n",
       "      <td>{\"type\": \"MultiPoint\", \"coordinates\": [[5.6843...</td>\n",
       "    </tr>\n",
       "    <tr>\n",
       "      <th>5</th>\n",
       "      <td>1388552400000</td>\n",
       "      <td>January</td>\n",
       "      <td>Wednesday</td>\n",
       "      <td>2014</td>\n",
       "      <td>5</td>\n",
       "      <td>NSA</td>\n",
       "      <td>NaN</td>\n",
       "      <td>YES</td>\n",
       "      <td>NO</td>\n",
       "      <td>NO</td>\n",
       "      <td>NSA</td>\n",
       "      <td>NSA</td>\n",
       "      <td>0.000000</td>\n",
       "      <td>0.000000</td>\n",
       "      <td>YES</td>\n",
       "      <td>NO</td>\n",
       "      <td>NO</td>\n",
       "      <td>NO</td>\n",
       "      <td>NO</td>\n",
       "      <td>{\"type\": \"MultiPoint\", \"coordinates\": [[5.6843...</td>\n",
       "    </tr>\n",
       "  </tbody>\n",
       "</table>\n",
       "</div>"
      ],
      "text/plain": [
       "          OCC_DATE OCC_MONTH    OCC_DOW  OCC_YEAR  OCC_HOUR DIVISION  \\\n",
       "_id                                                                    \n",
       "1    1388552400000   January  Wednesday      2014        13      D23   \n",
       "2    1388552400000   January  Wednesday      2014        19      D42   \n",
       "3    1388552400000   January  Wednesday      2014         2      NSA   \n",
       "4    1388552400000   January  Wednesday      2014         3      NSA   \n",
       "5    1388552400000   January  Wednesday      2014         5      NSA   \n",
       "\n",
       "     FATALITIES INJURY_COLLISIONS FTR_COLLISIONS PD_COLLISIONS HOOD_158  \\\n",
       "_id                                                                       \n",
       "1           NaN                NO             NO           YES      006   \n",
       "2           NaN                NO            YES            NO      128   \n",
       "3           NaN               YES             NO            NO      NSA   \n",
       "4           NaN                NO             NO           YES      NSA   \n",
       "5           NaN               YES             NO            NO      NSA   \n",
       "\n",
       "                      NEIGHBOURHOOD_158  LONG_WGS84  LAT_WGS84 AUTOMOBILE  \\\n",
       "_id                                                                         \n",
       "1     Kingsview Village-The Westway (6)  -79.558639  43.694246        YES   \n",
       "2    Agincourt South-Malvern West (128)  -79.281506  43.784746        YES   \n",
       "3                                   NSA    0.000000   0.000000        YES   \n",
       "4                                   NSA    0.000000   0.000000        YES   \n",
       "5                                   NSA    0.000000   0.000000        YES   \n",
       "\n",
       "    MOTORCYCLE PASSENGER BICYCLE PEDESTRIAN  \\\n",
       "_id                                           \n",
       "1           NO        NO      NO         NO   \n",
       "2           NO        NO      NO         NO   \n",
       "3           NO        NO      NO         NO   \n",
       "4           NO        NO      NO         NO   \n",
       "5           NO        NO      NO         NO   \n",
       "\n",
       "                                              geometry  \n",
       "_id                                                     \n",
       "1    {\"type\": \"MultiPoint\", \"coordinates\": [[-79.55...  \n",
       "2    {\"type\": \"MultiPoint\", \"coordinates\": [[-79.28...  \n",
       "3    {\"type\": \"MultiPoint\", \"coordinates\": [[5.6843...  \n",
       "4    {\"type\": \"MultiPoint\", \"coordinates\": [[5.6843...  \n",
       "5    {\"type\": \"MultiPoint\", \"coordinates\": [[5.6843...  "
      ]
     },
     "execution_count": 3,
     "metadata": {},
     "output_type": "execute_result"
    }
   ],
   "source": [
    " # show first five rows\n",
    "df.head()"
   ]
  },
  {
   "cell_type": "markdown",
   "id": "3107a5bf-96df-4a9b-86ab-981add6ea9d2",
   "metadata": {},
   "source": [
    "Each row in the dataset represents a single reported traffic collision incident in Toronto. Specifically, one row corresponds to one collision event and includes information about when, where, and how the collision happened, as well as details on the severity and the types of vehicles and people involved."
   ]
  },
  {
   "cell_type": "markdown",
   "id": "02b4f382-c7ee-4554-b1a1-ffb6ad1e848a",
   "metadata": {},
   "source": [
    "### Display important info"
   ]
  },
  {
   "cell_type": "code",
   "execution_count": 5,
   "id": "90c95a32-53b6-4e25-b3cb-8b34c64d9d07",
   "metadata": {},
   "outputs": [
    {
     "name": "stdout",
     "output_type": "stream",
     "text": [
      "<class 'pandas.core.frame.DataFrame'>\n",
      "Index: 704704 entries, 1 to 704704\n",
      "Data columns (total 20 columns):\n",
      " #   Column             Non-Null Count   Dtype  \n",
      "---  ------             --------------   -----  \n",
      " 0   OCC_DATE           704704 non-null  int64  \n",
      " 1   OCC_MONTH          704704 non-null  object \n",
      " 2   OCC_DOW            704704 non-null  object \n",
      " 3   OCC_YEAR           704704 non-null  int64  \n",
      " 4   OCC_HOUR           704704 non-null  int64  \n",
      " 5   DIVISION           704704 non-null  object \n",
      " 6   FATALITIES         606 non-null     float64\n",
      " 7   INJURY_COLLISIONS  704700 non-null  object \n",
      " 8   FTR_COLLISIONS     704700 non-null  object \n",
      " 9   PD_COLLISIONS      704700 non-null  object \n",
      " 10  HOOD_158           704704 non-null  object \n",
      " 11  NEIGHBOURHOOD_158  704704 non-null  object \n",
      " 12  LONG_WGS84         704704 non-null  float64\n",
      " 13  LAT_WGS84          704704 non-null  float64\n",
      " 14  AUTOMOBILE         704700 non-null  object \n",
      " 15  MOTORCYCLE         704700 non-null  object \n",
      " 16  PASSENGER          704700 non-null  object \n",
      " 17  BICYCLE            704700 non-null  object \n",
      " 18  PEDESTRIAN         704700 non-null  object \n",
      " 19  geometry           704704 non-null  object \n",
      "dtypes: float64(3), int64(3), object(14)\n",
      "memory usage: 112.9+ MB\n"
     ]
    }
   ],
   "source": [
    "# show dataframe info\n",
    "df.info()"
   ]
  },
  {
   "cell_type": "markdown",
   "id": "8e349bf0-6278-4b6b-907b-d2a7d914b332",
   "metadata": {},
   "source": [
    "<br>"
   ]
  },
  {
   "cell_type": "markdown",
   "id": "952c74b9-abe6-41f2-8fdb-b79feb56ed22",
   "metadata": {},
   "source": [
    "#### Key Insights\n",
    "- There are 704,704 rows and 21 columns in the dataset.\n",
    "- Critical columns like `FATALITIES` have significant missing data (only 606 non-null rows).\n",
    "- Minor missing data in columns like `INJURY_COLLISIONS`, `AUTOMOBILE`, `PEDESTRIAN`, etc. (4 missing values each).\n"
   ]
  },
  {
   "cell_type": "markdown",
   "id": "4422474f-1940-4a15-ad27-70357a96b0e2",
   "metadata": {},
   "source": [
    "<br>"
   ]
  },
  {
   "cell_type": "markdown",
   "id": "b6b84c7b-459e-4013-9a5b-4d6cfe6ef0f0",
   "metadata": {},
   "source": [
    "### Descriptive Statistics"
   ]
  },
  {
   "cell_type": "code",
   "execution_count": 7,
   "id": "34d1f1c5-ede6-41d2-9705-a233760cd508",
   "metadata": {},
   "outputs": [
    {
     "data": {
      "text/html": [
       "<div>\n",
       "<style scoped>\n",
       "    .dataframe tbody tr th:only-of-type {\n",
       "        vertical-align: middle;\n",
       "    }\n",
       "\n",
       "    .dataframe tbody tr th {\n",
       "        vertical-align: top;\n",
       "    }\n",
       "\n",
       "    .dataframe thead th {\n",
       "        text-align: right;\n",
       "    }\n",
       "</style>\n",
       "<table border=\"1\" class=\"dataframe\">\n",
       "  <thead>\n",
       "    <tr style=\"text-align: right;\">\n",
       "      <th></th>\n",
       "      <th>OCC_DATE</th>\n",
       "      <th>OCC_YEAR</th>\n",
       "      <th>OCC_HOUR</th>\n",
       "      <th>FATALITIES</th>\n",
       "      <th>LONG_WGS84</th>\n",
       "      <th>LAT_WGS84</th>\n",
       "    </tr>\n",
       "  </thead>\n",
       "  <tbody>\n",
       "    <tr>\n",
       "      <th>count</th>\n",
       "      <td>7.047040e+05</td>\n",
       "      <td>704704.000000</td>\n",
       "      <td>704704.000000</td>\n",
       "      <td>606.000000</td>\n",
       "      <td>704704.000000</td>\n",
       "      <td>704704.000000</td>\n",
       "    </tr>\n",
       "    <tr>\n",
       "      <th>mean</th>\n",
       "      <td>1.553559e+12</td>\n",
       "      <td>2018.729875</td>\n",
       "      <td>13.468612</td>\n",
       "      <td>1.014851</td>\n",
       "      <td>-66.342691</td>\n",
       "      <td>36.528215</td>\n",
       "    </tr>\n",
       "    <tr>\n",
       "      <th>std</th>\n",
       "      <td>9.784382e+10</td>\n",
       "      <td>3.099030</td>\n",
       "      <td>4.976665</td>\n",
       "      <td>0.145831</td>\n",
       "      <td>29.423231</td>\n",
       "      <td>16.200397</td>\n",
       "    </tr>\n",
       "    <tr>\n",
       "      <th>min</th>\n",
       "      <td>1.388552e+12</td>\n",
       "      <td>2014.000000</td>\n",
       "      <td>0.000000</td>\n",
       "      <td>1.000000</td>\n",
       "      <td>-79.639247</td>\n",
       "      <td>0.000000</td>\n",
       "    </tr>\n",
       "    <tr>\n",
       "      <th>25%</th>\n",
       "      <td>1.472706e+12</td>\n",
       "      <td>2016.000000</td>\n",
       "      <td>10.000000</td>\n",
       "      <td>1.000000</td>\n",
       "      <td>-79.444829</td>\n",
       "      <td>43.644346</td>\n",
       "    </tr>\n",
       "    <tr>\n",
       "      <th>50%</th>\n",
       "      <td>1.545109e+12</td>\n",
       "      <td>2018.000000</td>\n",
       "      <td>14.000000</td>\n",
       "      <td>1.000000</td>\n",
       "      <td>-79.370469</td>\n",
       "      <td>43.692500</td>\n",
       "    </tr>\n",
       "    <tr>\n",
       "      <th>75%</th>\n",
       "      <td>1.642568e+12</td>\n",
       "      <td>2022.000000</td>\n",
       "      <td>17.000000</td>\n",
       "      <td>1.000000</td>\n",
       "      <td>-79.258521</td>\n",
       "      <td>43.751480</td>\n",
       "    </tr>\n",
       "    <tr>\n",
       "      <th>max</th>\n",
       "      <td>1.727672e+12</td>\n",
       "      <td>2024.000000</td>\n",
       "      <td>23.000000</td>\n",
       "      <td>3.000000</td>\n",
       "      <td>0.000000</td>\n",
       "      <td>43.853164</td>\n",
       "    </tr>\n",
       "  </tbody>\n",
       "</table>\n",
       "</div>"
      ],
      "text/plain": [
       "           OCC_DATE       OCC_YEAR       OCC_HOUR  FATALITIES     LONG_WGS84  \\\n",
       "count  7.047040e+05  704704.000000  704704.000000  606.000000  704704.000000   \n",
       "mean   1.553559e+12    2018.729875      13.468612    1.014851     -66.342691   \n",
       "std    9.784382e+10       3.099030       4.976665    0.145831      29.423231   \n",
       "min    1.388552e+12    2014.000000       0.000000    1.000000     -79.639247   \n",
       "25%    1.472706e+12    2016.000000      10.000000    1.000000     -79.444829   \n",
       "50%    1.545109e+12    2018.000000      14.000000    1.000000     -79.370469   \n",
       "75%    1.642568e+12    2022.000000      17.000000    1.000000     -79.258521   \n",
       "max    1.727672e+12    2024.000000      23.000000    3.000000       0.000000   \n",
       "\n",
       "           LAT_WGS84  \n",
       "count  704704.000000  \n",
       "mean       36.528215  \n",
       "std        16.200397  \n",
       "min         0.000000  \n",
       "25%        43.644346  \n",
       "50%        43.692500  \n",
       "75%        43.751480  \n",
       "max        43.853164  "
      ]
     },
     "execution_count": 7,
     "metadata": {},
     "output_type": "execute_result"
    }
   ],
   "source": [
    "# dataframe key statistics\n",
    "df.describe()"
   ]
  },
  {
   "cell_type": "markdown",
   "id": "1ea6ca7d-9de0-4564-af97-8beadfb1ca63",
   "metadata": {},
   "source": [
    "#### Key Insights\n",
    "- Most collisions occur around the average hour 13.5 (1 PM)\n",
    "- Collision data spans from 2014 to 2024\n",
    "- Latitude and longitude indicate potential (0, 0) entries, which may need cleaning\n",
    "  "
   ]
  },
  {
   "cell_type": "code",
   "execution_count": null,
   "id": "8f43a377-e1a3-4a4b-8f3c-e751fcdbd8cb",
   "metadata": {},
   "outputs": [],
   "source": []
  },
  {
   "cell_type": "code",
   "execution_count": null,
   "id": "dc3284d0-8e5d-49b3-9dde-1aead114899b",
   "metadata": {},
   "outputs": [],
   "source": []
  },
  {
   "cell_type": "code",
   "execution_count": null,
   "id": "18804139-4df7-4fde-b960-fba2aa9196af",
   "metadata": {},
   "outputs": [],
   "source": []
  },
  {
   "cell_type": "code",
   "execution_count": null,
   "id": "49f2b8f4-4983-4c5e-ac54-1726ef5463e3",
   "metadata": {},
   "outputs": [],
   "source": []
  },
  {
   "cell_type": "markdown",
   "id": "f3cee675-a712-4e28-8e74-a25461073b4d",
   "metadata": {},
   "source": [
    "##  Data Preparation and Preprocessing"
   ]
  },
  {
   "cell_type": "markdown",
   "id": "f37bdf85-980f-49a0-85d1-efa3fa30ba03",
   "metadata": {},
   "source": []
  },
  {
   "cell_type": "markdown",
   "id": "1dd48ea7-cc0c-46b5-abb5-6507fbc5e7ba",
   "metadata": {},
   "source": [
    "### Missing Values"
   ]
  },
  {
   "cell_type": "code",
   "execution_count": null,
   "id": "0bb1808a-7ac1-4720-80eb-b9287c640f1c",
   "metadata": {},
   "outputs": [],
   "source": [
    "df.isnull().sum()"
   ]
  },
  {
   "cell_type": "markdown",
   "id": "dc55c222-edca-4009-ac49-6bf1ad3b97b5",
   "metadata": {},
   "source": [
    "Let's take a look at the rows with missing values:"
   ]
  },
  {
   "cell_type": "code",
   "execution_count": null,
   "id": "891d2335-6d7c-4967-856b-ddfdde02a03f",
   "metadata": {},
   "outputs": [],
   "source": [
    "df[df['AUTOMOBILE'].isnull()]"
   ]
  },
  {
   "cell_type": "code",
   "execution_count": null,
   "id": "6948f74a-50eb-4541-bf9f-9bfe87600eaf",
   "metadata": {
    "scrolled": true
   },
   "outputs": [],
   "source": [
    "df[df['MOTORCYCLE'].isnull()]"
   ]
  },
  {
   "cell_type": "code",
   "execution_count": null,
   "id": "09139bcb-c6a3-48d9-a111-fe3678ef6e8a",
   "metadata": {},
   "outputs": [],
   "source": [
    "df[df['PASSENGER'].isnull()]"
   ]
  },
  {
   "cell_type": "code",
   "execution_count": null,
   "id": "69acb6f8-d8f7-4a69-934f-d4d656a63922",
   "metadata": {},
   "outputs": [],
   "source": [
    "df[df['BICYCLE'].isnull()]"
   ]
  },
  {
   "cell_type": "code",
   "execution_count": null,
   "id": "3d630ad9-8be5-4651-a770-ff8724b7ceba",
   "metadata": {},
   "outputs": [],
   "source": [
    "df[df['PEDESTRIAN'].isnull()]"
   ]
  },
  {
   "cell_type": "code",
   "execution_count": null,
   "id": "6765b53b-aef9-4d24-aae7-d81d5c47a3c5",
   "metadata": {},
   "outputs": [],
   "source": [
    "df[df['INJURY_COLLISIONS'].isnull()]"
   ]
  },
  {
   "cell_type": "code",
   "execution_count": null,
   "id": "09b7d3d4-3496-4e2c-8540-b2ab3ef40c9e",
   "metadata": {},
   "outputs": [],
   "source": [
    "df[df['FTR_COLLISIONS'].isnull()]"
   ]
  },
  {
   "cell_type": "code",
   "execution_count": null,
   "id": "0e4f654f-6787-4290-b341-ebd4666ff1af",
   "metadata": {},
   "outputs": [],
   "source": [
    "df[df['PD_COLLISIONS'].isnull()]"
   ]
  },
  {
   "cell_type": "code",
   "execution_count": null,
   "id": "aa552749-bd27-4c34-b531-f9924ad9f0f5",
   "metadata": {},
   "outputs": [],
   "source": [
    "df[df['NEIGHBOURHOOD_158'] == \"NSA\"]"
   ]
  },
  {
   "cell_type": "code",
   "execution_count": null,
   "id": "7d5410f8-a1e3-47a8-8a55-784b0725bc51",
   "metadata": {},
   "outputs": [],
   "source": []
  },
  {
   "cell_type": "code",
   "execution_count": null,
   "id": "305ea971-ffb6-4ce6-806a-67ba79d9a714",
   "metadata": {},
   "outputs": [],
   "source": []
  },
  {
   "cell_type": "markdown",
   "id": "8b18bc19-47e9-434f-89e9-1d4215709e1b",
   "metadata": {},
   "source": [
    "Observations:  \n",
    "\n",
    "These 4 rows all have:\n",
    "- `FATALITIES` = 1.0 (indicating that these were fatal collisions).\n",
    "- Missing values (NaN) in all vehicle-related columns (AUTOMOBILE, MOTORCYCLE, PASSENGER, BICYCLE, PEDESTRIAN).\n",
    "- Latitude (LAT_WGS84) and longitude (LONG_WGS84) are valid, so the location of the collision is recorded correctly.\n",
    "- The geometry field suggests these rows are likely valid entries and not data corruption.\n",
    "\n",
    "Since fatalities are rare and significant events in collision datasets, it's critical to retain and analyze these rows to provide accurate insights.\n"
   ]
  },
  {
   "cell_type": "markdown",
   "id": "ee1fb011-9403-4e74-8c68-c2c16c6bae0a",
   "metadata": {},
   "source": [
    "### Data Types"
   ]
  },
  {
   "cell_type": "markdown",
   "id": "e09b4302-46e1-4fcf-a7e4-0a00dc64fd02",
   "metadata": {},
   "source": [
    "#### Convert Date"
   ]
  },
  {
   "cell_type": "code",
   "execution_count": null,
   "id": "61155812-61f7-4939-9d88-375349225f98",
   "metadata": {},
   "outputs": [],
   "source": [
    "# Convert Unix timestamp to datetime\n",
    "df['OCC_DATE'] = pd.to_datetime(df['OCC_DATE'], unit='ms')\n",
    "\n",
    "df"
   ]
  },
  {
   "cell_type": "markdown",
   "id": "c8b844d4-105d-4118-8ed9-14c1b7949624",
   "metadata": {},
   "source": []
  },
  {
   "cell_type": "code",
   "execution_count": null,
   "id": "8a7be16e-4d0f-4eb5-8d6f-c9f74d5e0d83",
   "metadata": {},
   "outputs": [],
   "source": [
    "# Convert from UTC to local Toronto time\n",
    "df['OCC_DATE'] = df['OCC_DATE'].dt.tz_localize('UTC').dt.tz_convert('America/Toronto')"
   ]
  },
  {
   "cell_type": "code",
   "execution_count": null,
   "id": "8203d094-1daa-46a9-af38-b4ae44944f91",
   "metadata": {},
   "outputs": [],
   "source": [
    "df.head()"
   ]
  },
  {
   "cell_type": "markdown",
   "id": "a4f62446-7284-4e42-abaa-31d56cf3d991",
   "metadata": {},
   "source": []
  },
  {
   "cell_type": "markdown",
   "id": "ea5e9bdc-d48a-48b5-9764-5cf9d2bb56ca",
   "metadata": {},
   "source": [
    "#### Convert columns to binary"
   ]
  },
  {
   "cell_type": "code",
   "execution_count": null,
   "id": "b819fd1e-82bb-4c47-9171-e7c5b5ded018",
   "metadata": {},
   "outputs": [],
   "source": [
    "df.replace(\"N/R\", \"NO\", inplace=True)"
   ]
  },
  {
   "cell_type": "code",
   "execution_count": null,
   "id": "522cf3eb-31cd-4537-948a-6b63e9023067",
   "metadata": {},
   "outputs": [],
   "source": [
    "df"
   ]
  },
  {
   "cell_type": "code",
   "execution_count": null,
   "id": "1971e34f-6e8b-430b-b7e5-244e40ad382f",
   "metadata": {},
   "outputs": [],
   "source": [
    "binary_columns = ['INJURY_COLLISIONS', 'FTR_COLLISIONS', 'PD_COLLISIONS', \n",
    "                  'AUTOMOBILE', 'MOTORCYCLE', 'PASSENGER', 'BICYCLE', 'PEDESTRIAN']\n",
    "df[binary_columns] = df[binary_columns].replace({\"YES\": 1, \"NO\": 0})\n"
   ]
  },
  {
   "cell_type": "code",
   "execution_count": null,
   "id": "099c04ee-ea26-4fda-bbce-eb8267a0f37f",
   "metadata": {},
   "outputs": [],
   "source": [
    "df"
   ]
  },
  {
   "cell_type": "code",
   "execution_count": null,
   "id": "16d5c106-2241-4cd8-951b-8a8993d0c287",
   "metadata": {},
   "outputs": [],
   "source": [
    "# Convert decimal floats to integers\n",
    "df[binary_columns] = df[binary_columns].astype(int)\n"
   ]
  },
  {
   "cell_type": "markdown",
   "id": "68a02f2e-c4e5-452a-8878-193f3980db9a",
   "metadata": {},
   "source": []
  },
  {
   "cell_type": "markdown",
   "id": "bde6aad1-8d5e-44ab-a66c-23bf6e8e99cb",
   "metadata": {},
   "source": []
  },
  {
   "cell_type": "markdown",
   "id": "c8b3512e-1d91-4dee-985f-6abadfc4dc02",
   "metadata": {},
   "source": [
    "### Check for Duplicates"
   ]
  },
  {
   "cell_type": "code",
   "execution_count": 36,
   "id": "31618eb0-78ca-40b3-b57e-0f0dab5b57bf",
   "metadata": {},
   "outputs": [
    {
     "data": {
      "text/html": [
       "<div>\n",
       "<style scoped>\n",
       "    .dataframe tbody tr th:only-of-type {\n",
       "        vertical-align: middle;\n",
       "    }\n",
       "\n",
       "    .dataframe tbody tr th {\n",
       "        vertical-align: top;\n",
       "    }\n",
       "\n",
       "    .dataframe thead th {\n",
       "        text-align: right;\n",
       "    }\n",
       "</style>\n",
       "<table border=\"1\" class=\"dataframe\">\n",
       "  <thead>\n",
       "    <tr style=\"text-align: right;\">\n",
       "      <th></th>\n",
       "      <th>OCC_DATE</th>\n",
       "      <th>OCC_MONTH</th>\n",
       "      <th>OCC_DOW</th>\n",
       "      <th>OCC_YEAR</th>\n",
       "      <th>OCC_HOUR</th>\n",
       "      <th>DIVISION</th>\n",
       "      <th>FATALITIES</th>\n",
       "      <th>INJURY_COLLISIONS</th>\n",
       "      <th>FTR_COLLISIONS</th>\n",
       "      <th>PD_COLLISIONS</th>\n",
       "      <th>HOOD_158</th>\n",
       "      <th>NEIGHBOURHOOD_158</th>\n",
       "      <th>LONG_WGS84</th>\n",
       "      <th>LAT_WGS84</th>\n",
       "      <th>AUTOMOBILE</th>\n",
       "      <th>MOTORCYCLE</th>\n",
       "      <th>PASSENGER</th>\n",
       "      <th>BICYCLE</th>\n",
       "      <th>PEDESTRIAN</th>\n",
       "      <th>geometry</th>\n",
       "    </tr>\n",
       "    <tr>\n",
       "      <th>_id</th>\n",
       "      <th></th>\n",
       "      <th></th>\n",
       "      <th></th>\n",
       "      <th></th>\n",
       "      <th></th>\n",
       "      <th></th>\n",
       "      <th></th>\n",
       "      <th></th>\n",
       "      <th></th>\n",
       "      <th></th>\n",
       "      <th></th>\n",
       "      <th></th>\n",
       "      <th></th>\n",
       "      <th></th>\n",
       "      <th></th>\n",
       "      <th></th>\n",
       "      <th></th>\n",
       "      <th></th>\n",
       "      <th></th>\n",
       "      <th></th>\n",
       "    </tr>\n",
       "  </thead>\n",
       "  <tbody>\n",
       "    <tr>\n",
       "      <th>3</th>\n",
       "      <td>1388552400000</td>\n",
       "      <td>January</td>\n",
       "      <td>Wednesday</td>\n",
       "      <td>2014</td>\n",
       "      <td>2</td>\n",
       "      <td>NSA</td>\n",
       "      <td>NaN</td>\n",
       "      <td>YES</td>\n",
       "      <td>NO</td>\n",
       "      <td>NO</td>\n",
       "      <td>NSA</td>\n",
       "      <td>NSA</td>\n",
       "      <td>0.0</td>\n",
       "      <td>0.0</td>\n",
       "      <td>YES</td>\n",
       "      <td>NO</td>\n",
       "      <td>NO</td>\n",
       "      <td>NO</td>\n",
       "      <td>NO</td>\n",
       "      <td>{\"type\": \"MultiPoint\", \"coordinates\": [[5.6843...</td>\n",
       "    </tr>\n",
       "    <tr>\n",
       "      <th>4</th>\n",
       "      <td>1388552400000</td>\n",
       "      <td>January</td>\n",
       "      <td>Wednesday</td>\n",
       "      <td>2014</td>\n",
       "      <td>3</td>\n",
       "      <td>NSA</td>\n",
       "      <td>NaN</td>\n",
       "      <td>NO</td>\n",
       "      <td>NO</td>\n",
       "      <td>YES</td>\n",
       "      <td>NSA</td>\n",
       "      <td>NSA</td>\n",
       "      <td>0.0</td>\n",
       "      <td>0.0</td>\n",
       "      <td>YES</td>\n",
       "      <td>NO</td>\n",
       "      <td>NO</td>\n",
       "      <td>NO</td>\n",
       "      <td>NO</td>\n",
       "      <td>{\"type\": \"MultiPoint\", \"coordinates\": [[5.6843...</td>\n",
       "    </tr>\n",
       "    <tr>\n",
       "      <th>5</th>\n",
       "      <td>1388552400000</td>\n",
       "      <td>January</td>\n",
       "      <td>Wednesday</td>\n",
       "      <td>2014</td>\n",
       "      <td>5</td>\n",
       "      <td>NSA</td>\n",
       "      <td>NaN</td>\n",
       "      <td>YES</td>\n",
       "      <td>NO</td>\n",
       "      <td>NO</td>\n",
       "      <td>NSA</td>\n",
       "      <td>NSA</td>\n",
       "      <td>0.0</td>\n",
       "      <td>0.0</td>\n",
       "      <td>YES</td>\n",
       "      <td>NO</td>\n",
       "      <td>NO</td>\n",
       "      <td>NO</td>\n",
       "      <td>NO</td>\n",
       "      <td>{\"type\": \"MultiPoint\", \"coordinates\": [[5.6843...</td>\n",
       "    </tr>\n",
       "    <tr>\n",
       "      <th>6</th>\n",
       "      <td>1388552400000</td>\n",
       "      <td>January</td>\n",
       "      <td>Wednesday</td>\n",
       "      <td>2014</td>\n",
       "      <td>5</td>\n",
       "      <td>NSA</td>\n",
       "      <td>NaN</td>\n",
       "      <td>NO</td>\n",
       "      <td>NO</td>\n",
       "      <td>YES</td>\n",
       "      <td>NSA</td>\n",
       "      <td>NSA</td>\n",
       "      <td>0.0</td>\n",
       "      <td>0.0</td>\n",
       "      <td>YES</td>\n",
       "      <td>NO</td>\n",
       "      <td>NO</td>\n",
       "      <td>NO</td>\n",
       "      <td>NO</td>\n",
       "      <td>{\"type\": \"MultiPoint\", \"coordinates\": [[5.6843...</td>\n",
       "    </tr>\n",
       "    <tr>\n",
       "      <th>7</th>\n",
       "      <td>1388552400000</td>\n",
       "      <td>January</td>\n",
       "      <td>Wednesday</td>\n",
       "      <td>2014</td>\n",
       "      <td>8</td>\n",
       "      <td>NSA</td>\n",
       "      <td>NaN</td>\n",
       "      <td>NO</td>\n",
       "      <td>NO</td>\n",
       "      <td>YES</td>\n",
       "      <td>NSA</td>\n",
       "      <td>NSA</td>\n",
       "      <td>0.0</td>\n",
       "      <td>0.0</td>\n",
       "      <td>YES</td>\n",
       "      <td>NO</td>\n",
       "      <td>NO</td>\n",
       "      <td>NO</td>\n",
       "      <td>NO</td>\n",
       "      <td>{\"type\": \"MultiPoint\", \"coordinates\": [[5.6843...</td>\n",
       "    </tr>\n",
       "    <tr>\n",
       "      <th>...</th>\n",
       "      <td>...</td>\n",
       "      <td>...</td>\n",
       "      <td>...</td>\n",
       "      <td>...</td>\n",
       "      <td>...</td>\n",
       "      <td>...</td>\n",
       "      <td>...</td>\n",
       "      <td>...</td>\n",
       "      <td>...</td>\n",
       "      <td>...</td>\n",
       "      <td>...</td>\n",
       "      <td>...</td>\n",
       "      <td>...</td>\n",
       "      <td>...</td>\n",
       "      <td>...</td>\n",
       "      <td>...</td>\n",
       "      <td>...</td>\n",
       "      <td>...</td>\n",
       "      <td>...</td>\n",
       "      <td>...</td>\n",
       "    </tr>\n",
       "    <tr>\n",
       "      <th>704617</th>\n",
       "      <td>1727672400000</td>\n",
       "      <td>September</td>\n",
       "      <td>Monday</td>\n",
       "      <td>2024</td>\n",
       "      <td>6</td>\n",
       "      <td>NSA</td>\n",
       "      <td>NaN</td>\n",
       "      <td>YES</td>\n",
       "      <td>NO</td>\n",
       "      <td>NO</td>\n",
       "      <td>NSA</td>\n",
       "      <td>NSA</td>\n",
       "      <td>0.0</td>\n",
       "      <td>0.0</td>\n",
       "      <td>YES</td>\n",
       "      <td>NO</td>\n",
       "      <td>NO</td>\n",
       "      <td>NO</td>\n",
       "      <td>NO</td>\n",
       "      <td>{\"type\": \"MultiPoint\", \"coordinates\": [[5.6843...</td>\n",
       "    </tr>\n",
       "    <tr>\n",
       "      <th>704618</th>\n",
       "      <td>1727672400000</td>\n",
       "      <td>September</td>\n",
       "      <td>Monday</td>\n",
       "      <td>2024</td>\n",
       "      <td>7</td>\n",
       "      <td>NSA</td>\n",
       "      <td>NaN</td>\n",
       "      <td>YES</td>\n",
       "      <td>NO</td>\n",
       "      <td>NO</td>\n",
       "      <td>NSA</td>\n",
       "      <td>NSA</td>\n",
       "      <td>0.0</td>\n",
       "      <td>0.0</td>\n",
       "      <td>YES</td>\n",
       "      <td>NO</td>\n",
       "      <td>NO</td>\n",
       "      <td>NO</td>\n",
       "      <td>NO</td>\n",
       "      <td>{\"type\": \"MultiPoint\", \"coordinates\": [[5.6843...</td>\n",
       "    </tr>\n",
       "    <tr>\n",
       "      <th>704672</th>\n",
       "      <td>1727672400000</td>\n",
       "      <td>September</td>\n",
       "      <td>Monday</td>\n",
       "      <td>2024</td>\n",
       "      <td>14</td>\n",
       "      <td>NSA</td>\n",
       "      <td>NaN</td>\n",
       "      <td>NO</td>\n",
       "      <td>YES</td>\n",
       "      <td>NO</td>\n",
       "      <td>NSA</td>\n",
       "      <td>NSA</td>\n",
       "      <td>0.0</td>\n",
       "      <td>0.0</td>\n",
       "      <td>YES</td>\n",
       "      <td>NO</td>\n",
       "      <td>YES</td>\n",
       "      <td>NO</td>\n",
       "      <td>NO</td>\n",
       "      <td>{\"type\": \"MultiPoint\", \"coordinates\": [[5.6843...</td>\n",
       "    </tr>\n",
       "    <tr>\n",
       "      <th>704676</th>\n",
       "      <td>1727672400000</td>\n",
       "      <td>September</td>\n",
       "      <td>Monday</td>\n",
       "      <td>2024</td>\n",
       "      <td>10</td>\n",
       "      <td>D42</td>\n",
       "      <td>NaN</td>\n",
       "      <td>YES</td>\n",
       "      <td>NO</td>\n",
       "      <td>NO</td>\n",
       "      <td>NSA</td>\n",
       "      <td>NSA</td>\n",
       "      <td>0.0</td>\n",
       "      <td>0.0</td>\n",
       "      <td>YES</td>\n",
       "      <td>NO</td>\n",
       "      <td>NO</td>\n",
       "      <td>NO</td>\n",
       "      <td>YES</td>\n",
       "      <td>{\"type\": \"MultiPoint\", \"coordinates\": [[5.6843...</td>\n",
       "    </tr>\n",
       "    <tr>\n",
       "      <th>704694</th>\n",
       "      <td>1727672400000</td>\n",
       "      <td>September</td>\n",
       "      <td>Monday</td>\n",
       "      <td>2024</td>\n",
       "      <td>11</td>\n",
       "      <td>NSA</td>\n",
       "      <td>NaN</td>\n",
       "      <td>NO</td>\n",
       "      <td>NO</td>\n",
       "      <td>YES</td>\n",
       "      <td>NSA</td>\n",
       "      <td>NSA</td>\n",
       "      <td>0.0</td>\n",
       "      <td>0.0</td>\n",
       "      <td>YES</td>\n",
       "      <td>NO</td>\n",
       "      <td>NO</td>\n",
       "      <td>NO</td>\n",
       "      <td>NO</td>\n",
       "      <td>{\"type\": \"MultiPoint\", \"coordinates\": [[5.6843...</td>\n",
       "    </tr>\n",
       "  </tbody>\n",
       "</table>\n",
       "<p>115828 rows × 20 columns</p>\n",
       "</div>"
      ],
      "text/plain": [
       "             OCC_DATE  OCC_MONTH    OCC_DOW  OCC_YEAR  OCC_HOUR DIVISION  \\\n",
       "_id                                                                        \n",
       "3       1388552400000    January  Wednesday      2014         2      NSA   \n",
       "4       1388552400000    January  Wednesday      2014         3      NSA   \n",
       "5       1388552400000    January  Wednesday      2014         5      NSA   \n",
       "6       1388552400000    January  Wednesday      2014         5      NSA   \n",
       "7       1388552400000    January  Wednesday      2014         8      NSA   \n",
       "...               ...        ...        ...       ...       ...      ...   \n",
       "704617  1727672400000  September     Monday      2024         6      NSA   \n",
       "704618  1727672400000  September     Monday      2024         7      NSA   \n",
       "704672  1727672400000  September     Monday      2024        14      NSA   \n",
       "704676  1727672400000  September     Monday      2024        10      D42   \n",
       "704694  1727672400000  September     Monday      2024        11      NSA   \n",
       "\n",
       "        FATALITIES INJURY_COLLISIONS FTR_COLLISIONS PD_COLLISIONS HOOD_158  \\\n",
       "_id                                                                          \n",
       "3              NaN               YES             NO            NO      NSA   \n",
       "4              NaN                NO             NO           YES      NSA   \n",
       "5              NaN               YES             NO            NO      NSA   \n",
       "6              NaN                NO             NO           YES      NSA   \n",
       "7              NaN                NO             NO           YES      NSA   \n",
       "...            ...               ...            ...           ...      ...   \n",
       "704617         NaN               YES             NO            NO      NSA   \n",
       "704618         NaN               YES             NO            NO      NSA   \n",
       "704672         NaN                NO            YES            NO      NSA   \n",
       "704676         NaN               YES             NO            NO      NSA   \n",
       "704694         NaN                NO             NO           YES      NSA   \n",
       "\n",
       "       NEIGHBOURHOOD_158  LONG_WGS84  LAT_WGS84 AUTOMOBILE MOTORCYCLE  \\\n",
       "_id                                                                     \n",
       "3                    NSA         0.0        0.0        YES         NO   \n",
       "4                    NSA         0.0        0.0        YES         NO   \n",
       "5                    NSA         0.0        0.0        YES         NO   \n",
       "6                    NSA         0.0        0.0        YES         NO   \n",
       "7                    NSA         0.0        0.0        YES         NO   \n",
       "...                  ...         ...        ...        ...        ...   \n",
       "704617               NSA         0.0        0.0        YES         NO   \n",
       "704618               NSA         0.0        0.0        YES         NO   \n",
       "704672               NSA         0.0        0.0        YES         NO   \n",
       "704676               NSA         0.0        0.0        YES         NO   \n",
       "704694               NSA         0.0        0.0        YES         NO   \n",
       "\n",
       "       PASSENGER BICYCLE PEDESTRIAN  \\\n",
       "_id                                   \n",
       "3             NO      NO         NO   \n",
       "4             NO      NO         NO   \n",
       "5             NO      NO         NO   \n",
       "6             NO      NO         NO   \n",
       "7             NO      NO         NO   \n",
       "...          ...     ...        ...   \n",
       "704617        NO      NO         NO   \n",
       "704618        NO      NO         NO   \n",
       "704672       YES      NO         NO   \n",
       "704676        NO      NO        YES   \n",
       "704694        NO      NO         NO   \n",
       "\n",
       "                                                 geometry  \n",
       "_id                                                        \n",
       "3       {\"type\": \"MultiPoint\", \"coordinates\": [[5.6843...  \n",
       "4       {\"type\": \"MultiPoint\", \"coordinates\": [[5.6843...  \n",
       "5       {\"type\": \"MultiPoint\", \"coordinates\": [[5.6843...  \n",
       "6       {\"type\": \"MultiPoint\", \"coordinates\": [[5.6843...  \n",
       "7       {\"type\": \"MultiPoint\", \"coordinates\": [[5.6843...  \n",
       "...                                                   ...  \n",
       "704617  {\"type\": \"MultiPoint\", \"coordinates\": [[5.6843...  \n",
       "704618  {\"type\": \"MultiPoint\", \"coordinates\": [[5.6843...  \n",
       "704672  {\"type\": \"MultiPoint\", \"coordinates\": [[5.6843...  \n",
       "704676  {\"type\": \"MultiPoint\", \"coordinates\": [[5.6843...  \n",
       "704694  {\"type\": \"MultiPoint\", \"coordinates\": [[5.6843...  \n",
       "\n",
       "[115828 rows x 20 columns]"
      ]
     },
     "execution_count": 36,
     "metadata": {},
     "output_type": "execute_result"
    }
   ],
   "source": [
    "df[(df['LONG_WGS84'] == 0) & (df['LAT_WGS84'] == 0)]"
   ]
  },
  {
   "cell_type": "markdown",
   "id": "2cb1659e-9faa-4335-b624-c5141f6c34dd",
   "metadata": {},
   "source": [
    "## Exploratory Data Analysis (EDA)"
   ]
  },
  {
   "cell_type": "markdown",
   "id": "1333b48f-c68d-4382-bd3f-e6e55027ae1f",
   "metadata": {},
   "source": [
    "### Visualization"
   ]
  },
  {
   "cell_type": "markdown",
   "id": "881b7bb0-b376-41f0-996a-075bdb3186f2",
   "metadata": {},
   "source": [
    "#### Collisions by Year"
   ]
  },
  {
   "cell_type": "code",
   "execution_count": 11,
   "id": "69074c72-d975-4730-8577-42c54037f795",
   "metadata": {},
   "outputs": [],
   "source": [
    "# total number of collisions grouped by year\n",
    "collisions_by_year = df['OCC_YEAR'].value_counts().sort_index()"
   ]
  },
  {
   "cell_type": "code",
   "execution_count": 13,
   "id": "ebd771e2-e6c8-4382-b7eb-fac76b6bb39f",
   "metadata": {},
   "outputs": [
    {
     "data": {
      "image/png": "[encoded data removed]",
      "text/plain": [
       "<Figure size 1000x600 with 1 Axes>"
      ]
     },
     "metadata": {},
     "output_type": "display_data"
    }
   ],
   "source": [
    "# plotting number of collisions per year\n",
    "\n",
    "plt.figure(figsize=(10,6))\n",
    "collisions_by_year.plot(kind=\"bar\")\n",
    "\n",
    "\n",
    "plt.title(\"Number of Collisions Per Year\", fontsize = 16)\n",
    "plt.xlabel('Year', fontsize=14)\n",
    "plt.ylabel('Number of Collisions', fontsize=14)\n",
    "plt.xticks(rotation=45)\n",
    "plt.grid(axis='y', linestyle='--', alpha=0.7)\n",
    "\n",
    "plt.tight_layout()\n",
    "\n",
    "\n",
    "plt.show()"
   ]
  },
  {
   "cell_type": "markdown",
   "id": "2a5aeccf-8ce7-4e2e-a75b-30dc27a140bc",
   "metadata": {},
   "source": [
    "#### Collisions by Month"
   ]
  },
  {
   "cell_type": "code",
   "execution_count": 15,
   "id": "fb57f550-6da4-43ce-a93d-3c44c1920b29",
   "metadata": {},
   "outputs": [],
   "source": [
    "# total number of collisions grouped by month\n",
    "collisions_by_month = df['OCC_MONTH'].value_counts().sort_index()"
   ]
  },
  {
   "cell_type": "code",
   "execution_count": 17,
   "id": "72d4f325-1e1b-42e3-834f-e26ce8526377",
   "metadata": {},
   "outputs": [
    {
     "data": {
      "image/png": "[encoded data removed]",
      "text/plain": [
       "<Figure size 1000x600 with 1 Axes>"
      ]
     },
     "metadata": {},
     "output_type": "display_data"
    }
   ],
   "source": [
    "# plotting number of collisions per month\n",
    "lt.figure(figsize=(10,6))\n",
    "collisions_by_month.plot(kind=\"bar\")\n",
    "\n",
    "\n",
    "plt.title(\"Number of Collisions Per Month\", fontsize = 16)\n",
    "plt.xlabel('Month', fontsize=14)\n",
    "plt.ylabel('Number of Collisions', fontsize=14)\n",
    "plt.xticks(rotation=45)\n",
    "plt.grid(axis='y', linestyle='--', alpha=0.7)\n",
    "\n",
    "plt.tight_layout()\n",
    "\n",
    "\n",
    "plt.show()"
   ]
  },
  {
   "cell_type": "markdown",
   "id": "5bdf444f-2473-46db-aa81-9ff3f9929860",
   "metadata": {},
   "source": [
    "#### Collisions by Hour"
   ]
  },
  {
   "cell_type": "code",
   "execution_count": 19,
   "id": "c9dbbdbc-1115-4027-a006-6453fee19d8e",
   "metadata": {},
   "outputs": [],
   "source": [
    "# total number of collisions grouped by hour\n",
    "collisions_by_hour = df['OCC_HOUR'].value_counts().sort_index()"
   ]
  },
  {
   "cell_type": "code",
   "execution_count": 23,
   "id": "56a2a2ff-a47e-4bca-9e90-178f3bd72c97",
   "metadata": {},
   "outputs": [
    {
     "data": {
      "image/png": "[encoded data removed]",
      "text/plain": [
       "<Figure size 1000x600 with 1 Axes>"
      ]
     },
     "metadata": {},
     "output_type": "display_data"
    }
   ],
   "source": [
    "# plotting number of collisions per hour\n",
    "\n",
    "plt.figure(figsize=(10,6))\n",
    "collisions_by_hour.plot(kind=\"bar\")\n",
    "\n",
    "\n",
    "plt.title(\"Number of Collisions Per Hour\", fontsize = 16)\n",
    "plt.xlabel('Hour', fontsize=14)\n",
    "plt.ylabel('Number of Collisions', fontsize=14)\n",
    "plt.xticks(rotation=45)\n",
    "plt.grid(axis='y', linestyle='--', alpha=0.7)\n",
    "\n",
    "plt.tight_layout()\n",
    "\n",
    "\n",
    "plt.show()"
   ]
  },
  {
   "cell_type": "markdown",
   "id": "63610667-c369-4c19-a207-55815d001d02",
   "metadata": {},
   "source": [
    "#### Collisions by DOW"
   ]
  },
  {
   "cell_type": "code",
   "execution_count": 25,
   "id": "d5677127-9e2c-4f63-8213-8c1f6bf58205",
   "metadata": {},
   "outputs": [],
   "source": [
    "# total number of collisions grouped by DOW\n",
    "collisions_by_dow = df['OCC_DOW'].value_counts().sort_index()"
   ]
  },
  {
   "cell_type": "code",
   "execution_count": 27,
   "id": "a9187418-814f-42e2-b178-31ef069cac09",
   "metadata": {},
   "outputs": [
    {
     "data": {
      "image/png": "[encoded data removed]",
      "text/plain": [
       "<Figure size 1000x600 with 1 Axes>"
      ]
     },
     "metadata": {},
     "output_type": "display_data"
    }
   ],
   "source": [
    "# plotting number of collisions by day of week\n",
    "\n",
    "plt.figure(figsize=(10,6))\n",
    "collisions_by_dow.plot(kind=\"bar\")\n",
    "\n",
    "\n",
    "plt.title(\"Number of Collisions Per DOW\", fontsize = 16)\n",
    "plt.xlabel('DOW', fontsize=14)\n",
    "plt.ylabel('Number of Collisions', fontsize=14)\n",
    "plt.xticks(rotation=45)\n",
    "plt.grid(axis='y', linestyle='--', alpha=0.7)\n",
    "\n",
    "plt.tight_layout()\n",
    "\n",
    "\n",
    "plt.show()"
   ]
  },
  {
   "cell_type": "code",
   "execution_count": null,
   "id": "aa3e7c9d-34fe-4863-8b4c-e039515b4d8c",
   "metadata": {},
   "outputs": [],
   "source": [
    "df['MOTORCYCLE'].value_counts()"
   ]
  },
  {
   "cell_type": "code",
   "execution_count": null,
   "id": "e206edc9-4bdb-4193-b447-136fedf8ad71",
   "metadata": {},
   "outputs": [],
   "source": [
    "df['AUTOMOBILE'].value_counts()"
   ]
  },
  {
   "cell_type": "code",
   "execution_count": null,
   "id": "ca81db70-8189-42d2-a04c-7609f6039bed",
   "metadata": {},
   "outputs": [],
   "source": [
    "df['BICYCLE'].value_counts()"
   ]
  },
  {
   "cell_type": "code",
   "execution_count": null,
   "id": "29e7aeaa-ed03-4626-af11-6de215c64b3d",
   "metadata": {},
   "outputs": [],
   "source": [
    "df['PEDESTRIAN'].value_counts()"
   ]
  },
  {
   "cell_type": "code",
   "execution_count": null,
   "id": "42ca572f-775f-4d9d-bb7b-b6fc9657b3dd",
   "metadata": {},
   "outputs": [],
   "source": [
    "df['PASSENGER'].value_counts()"
   ]
  },
  {
   "cell_type": "code",
   "execution_count": null,
   "id": "ae80ac90-4281-4da3-9a7e-cf5e8233ea76",
   "metadata": {},
   "outputs": [],
   "source": [
    "df['INJURY_COLLISIONS'].value_counts()"
   ]
  },
  {
   "cell_type": "code",
   "execution_count": null,
   "id": "3415ec6e-580d-4aa1-82be-c266bbebfc5f",
   "metadata": {},
   "outputs": [],
   "source": [
    "df['FATALITIES'].value_counts()"
   ]
  },
  {
   "cell_type": "code",
   "execution_count": null,
   "id": "49004266-5474-4be9-8837-378467f68275",
   "metadata": {},
   "outputs": [],
   "source": [
    "df['PD_COLLISIONS'].value_counts()"
   ]
  },
  {
   "cell_type": "code",
   "execution_count": null,
   "id": "73da57fa-a47a-4203-a8d7-0376e05c8d3a",
   "metadata": {},
   "outputs": [],
   "source": []
  },
  {
   "cell_type": "code",
   "execution_count": null,
   "id": "2bcbd39b-430c-4553-815d-046d25eafb57",
   "metadata": {},
   "outputs": [],
   "source": []
  },
  {
   "cell_type": "code",
   "execution_count": null,
   "id": "25173e56-9f96-4486-b838-95f5d7d8277a",
   "metadata": {},
   "outputs": [],
   "source": []
  },
  {
   "cell_type": "code",
   "execution_count": null,
   "id": "b3ab96c0-ded1-40f8-a57e-518191e98aec",
   "metadata": {},
   "outputs": [],
   "source": []
  },
  {
   "cell_type": "code",
   "execution_count": null,
   "id": "74d83ddb-3fd9-424a-9e6a-8be0bc9bcd6c",
   "metadata": {},
   "outputs": [],
   "source": []
  },
  {
   "cell_type": "markdown",
   "id": "fcae3457-ba76-4744-b215-173ee59d8061",
   "metadata": {},
   "source": [
    "## Insights and Findings"
   ]
  },
  {
   "cell_type": "markdown",
   "id": "0802961f-ffdf-444b-a70f-e97b5fd67d44",
   "metadata": {},
   "source": [
    "## Conclusion"
   ]
  },
  {
   "cell_type": "markdown",
   "id": "c07146fb-bd71-4495-9cf8-21a2eeecd567",
   "metadata": {},
   "source": [
    "## Next Steps"
   ]
  },
  {
   "cell_type": "code",
   "execution_count": null,
   "id": "ad8b1139-9cc2-40e6-915a-187f62028526",
   "metadata": {},
   "outputs": [],
   "source": []
  },
  {
   "cell_type": "code",
   "execution_count": null,
   "id": "acd81f75-cd31-48d0-bb15-9ac2e350542b",
   "metadata": {},
   "outputs": [],
   "source": []
  },
  {
   "cell_type": "code",
   "execution_count": null,
   "id": "7ade5647-9de4-48bc-aba7-505e760fbf22",
   "metadata": {},
   "outputs": [],
   "source": []
  },
  {
   "cell_type": "markdown",
   "id": "7de2dba3-e888-4199-8705-c70a2106bca4",
   "metadata": {},
   "source": []
  },
  {
   "cell_type": "markdown",
   "id": "6f3e819a-6e77-4027-ad4f-df05d482f251",
   "metadata": {},
   "source": []
  }
 ],
 "metadata": {
  "kernelspec": {
   "display_name": "Python (myenv)",
   "language": "python",
   "name": "myenv"
  },
  "language_info": {
   "codemirror_mode": {
    "name": "ipython",
    "version": 3
   },
   "file_extension": ".py",
   "mimetype": "text/x-python",
   "name": "python",
   "nbconvert_exporter": "python",
   "pygments_lexer": "ipython3",
   "version": "3.11.11"
  },
  "widgets": {
   "application/vnd.jupyter.widget-state+json": {
    "state": {},
    "version_major": 2,
    "version_minor": 0
   }
  }
 },
 "nbformat": 4,
 "nbformat_minor": 5
}
